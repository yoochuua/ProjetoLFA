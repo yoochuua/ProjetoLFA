{
  "nbformat": 4,
  "nbformat_minor": 0,
  "metadata": {
    "colab": {
      "provenance": []
    },
    "kernelspec": {
      "name": "python3",
      "display_name": "Python 3"
    },
    "language_info": {
      "name": "python"
    }
  },
  "cells": [
    {
      "cell_type": "markdown",
      "source": [
        "# AUTÔMATOS FINITOS DETERMINÍSTICOS EM APLICAÇÕES PRÁTICAS: GERENCIADOR DE FILAS\n",
        "\n",
        "**Orientador:** Prof. Alexandre Donizeti Alves\n",
        "\n",
        "**Orientadas: **\n",
        "\n",
        "Beatriz Domingos de Oliveira, 11202130893\n",
        "\n",
        "Letícia do Carmo Melo, 11201921202\n",
        "\n",
        "Veronica Agatha Gonçalves Isobe , 11201920292"
      ],
      "metadata": {
        "id": "esL9I9QKamu9"
      }
    },
    {
      "cell_type": "markdown",
      "source": [
        "## DESCRIÇÃO DO PROBLEMA\n"
      ],
      "metadata": {
        "id": "z9ZI_zvRa-ke"
      }
    },
    {
      "cell_type": "markdown",
      "source": [
        "Em muitos ambientes de atendimento ao cliente, como em agências bancárias, postos de saúde e centros de suporte técnico, é crucial garantir uma distribuição eficiente das solicitações entre diferentes filas de atendimento. Isso não apenas otimiza o tempo de espera dos clientes, mas também maximiza a eficiência dos recursos disponíveis.\n",
        "\n",
        "Este projeto propõe uma solução inovadora para este desafio através do uso de um Autômato Finito Determinístico (AFD). Este AFD é projetado especificamente para um cenário comum de atendimento, onde há três filas distintas, nomeadas como A, B e C, e três tipos de solicitações, identificados pelos números 1, 2 e 3, representando respectivamente atendimentos fáceis, médios e difíceis.\n",
        "\n",
        "O objetivo primordial do AFD é determinar a fila mais adequada para direcionar uma solicitação de atendimento, levando em consideração a complexidade e o tempo de resolução esperado para cada tipo de solicitação, bem como a situação atual das filas. Isso é alcançado através de uma série de transições de estado, onde o AFD analisa a condição atual das filas e decide para qual delas a solicitação deve ser direcionada.\n",
        "\n",
        "Uma das características marcantes deste projeto é a capacidade do AFD de encontrar um estado final, indicando que as filas estão equilibradas, ou seja, não há uma sobrecarga excessiva em nenhuma delas. Além disso, a estrutura do AFD é flexível o suficiente para permitir a adição de mais tipos de atendimento ou filas, adaptando-se assim a diferentes cenários e necessidades de negócios.\n",
        "Com isso, a solução encontrada oferece uma abordagem eficaz e automatizada para o gerenciamento de filas de atendimento, proporcionando uma experiência mais eficiente tanto para os clientes quanto para os prestadores de serviço.\n",
        "\n"
      ],
      "metadata": {
        "id": "33SKhWMnbG_c"
      }
    },
    {
      "cell_type": "markdown",
      "source": [
        "## AFD GERENCIADOR DE FILAS:"
      ],
      "metadata": {
        "id": "gudlKMOEbpN1"
      }
    },
    {
      "cell_type": "markdown",
      "source": [
        "### Função Transição"
      ],
      "metadata": {
        "id": "a3MrsKM_IY_p"
      }
    },
    {
      "cell_type": "markdown",
      "source": [
        "#### Descrição"
      ],
      "metadata": {
        "id": "WhkfORDEcqT1"
      }
    },
    {
      "cell_type": "markdown",
      "source": [
        "A função de transição do AFD determina para qual fila cada novo atendimento deve ser direcionado, com base na dificuldade de resolução do atendimento solicitado e no estado atual das filas, seguindo basicamente 3 regras:\n",
        "Os atendimentos serão direcionados para a fila com menor peso de atendimento, garantindo otimizar o tempo de espera em todas as filas.\n",
        "\n",
        "\n",
        "*   Os atendimentos serão direcionados para a fila com menor peso de atendimento\n",
        "*   Caso haja mais de uma fila com peso 0 ou equivalente, s função de transição respeitará a seguinte ordem de prioridade das filas para direcionar o atendimento: A(1) > B(2) > C(3)\n",
        "*   Toda vez que o peso das filas forem equivalentes, a função retornará ao estado inicial\n",
        "\n",
        "Essa função é capaz de garantir um equilíbrio na distribuição de atendimento entre as filas, evitando sobrecargas que possam prejudicar o tempo de atendimento de alguma fila.\n"
      ],
      "metadata": {
        "id": "E-eREuO2c8w_"
      }
    },
    {
      "cell_type": "markdown",
      "source": [
        "#### Execução"
      ],
      "metadata": {
        "id": "ZC859C5MdNpM"
      }
    },
    {
      "cell_type": "code",
      "execution_count": null,
      "metadata": {
        "id": "SQMa27acIHF8"
      },
      "outputs": [],
      "source": [
        "δ = {\n",
        "    ('000', '1'): {'novo_estado': '100', 'mensagem': 'Por gentileza, direcione-se ao guiche A'},\n",
        "    ('000', '2'): {'novo_estado': '200', 'mensagem': 'Por gentileza, direcione-se ao guiche A'},\n",
        "    ('000', '3'): {'novo_estado': '300', 'mensagem': 'Por gentileza, direcione-se ao guiche A'},\n",
        "    ('100', '1'): {'novo_estado': '110', 'mensagem': 'Por gentileza, direcione-se ao guiche B'},\n",
        "    ('100', '2'): {'novo_estado': '120', 'mensagem': 'Por gentileza, direcione-se ao guiche B'},\n",
        "    ('100', '3'): {'novo_estado': '130', 'mensagem': 'Por gentileza, direcione-se ao guiche B'},\n",
        "    ('200', '1'): {'novo_estado': '210', 'mensagem': 'Por gentileza, direcione-se ao guiche B'},\n",
        "    ('200', '2'): {'novo_estado': '220', 'mensagem': 'Por gentileza, direcione-se ao guiche B'},\n",
        "    ('200', '3'): {'novo_estado': '230', 'mensagem': 'Por gentileza, direcione-se ao guiche B'},\n",
        "    ('300', '1'): {'novo_estado': '310', 'mensagem': 'Por gentileza, direcione-se ao guiche B'},\n",
        "    ('300', '2'): {'novo_estado': '320', 'mensagem': 'Por gentileza, direcione-se ao guiche B'},\n",
        "    ('300', '3'): {'novo_estado': '330', 'mensagem': 'Por gentileza, direcione-se ao guiche B'},\n",
        "    ('110', '1'): {'novo_estado': '000', 'mensagem': 'Por gentileza, direcione-se ao guiche C'},\n",
        "    ('110', '2'): {'novo_estado': '001', 'mensagem': 'Por gentileza, direcione-se ao guiche C'},\n",
        "    ('110', '3'): {'novo_estado': '002', 'mensagem': 'Por gentileza, direcione-se ao guiche C'},\n",
        "    ('120', '1'): {'novo_estado': '010', 'mensagem': 'Por gentileza, direcione-se ao guiche C'},\n",
        "    ('120', '2'): {'novo_estado': '011', 'mensagem': 'Por gentileza, direcione-se ao guiche C'},\n",
        "    ('120', '3'): {'novo_estado': '012', 'mensagem': 'Por gentileza, direcione-se ao guiche C'},\n",
        "    ('130', '1'): {'novo_estado': '020', 'mensagem': 'Por gentileza, direcione-se ao guiche C'},\n",
        "    ('130', '2'): {'novo_estado': '021', 'mensagem': 'Por gentileza, direcione-se ao guiche C'},\n",
        "    ('130', '3'): {'novo_estado': '022', 'mensagem': 'Por gentileza, direcione-se ao guiche C'},\n",
        "    ('220', '1'): {'novo_estado': '110', 'mensagem': 'Por gentileza, direcione-se ao guiche C'},\n",
        "    ('220', '2'): {'novo_estado': '000', 'mensagem': 'Por gentileza, direcione-se ao guiche C'},\n",
        "    ('220', '3'): {'novo_estado': '001', 'mensagem': 'Por gentileza, direcione-se ao guiche C'},\n",
        "    ('230', '1'): {'novo_estado': '120', 'mensagem': 'Por gentileza, direcione-se ao guiche C'},\n",
        "    ('230', '2'): {'novo_estado': '010', 'mensagem': 'Por gentileza, direcione-se ao guiche C'},\n",
        "    ('230', '3'): {'novo_estado': '011', 'mensagem': 'Por gentileza, direcione-se ao guiche C'},\n",
        "    ('330', '1'): {'novo_estado': '220', 'mensagem': 'Por gentileza, direcione-se ao guiche C'},\n",
        "    ('330', '2'): {'novo_estado': '110', 'mensagem': 'Por gentileza, direcione-se ao guiche C'},\n",
        "    ('330', '3'): {'novo_estado': '000', 'mensagem': 'Por gentileza, direcione-se ao guiche C'},\n",
        "    ('001', '1'): {'novo_estado': '101', 'mensagem': 'Por gentileza, direcione-se ao guiche A'},\n",
        "    ('001', '2'): {'novo_estado': '201', 'mensagem': 'Por gentileza, direcione-se ao guiche A'},\n",
        "    ('001', '3'): {'novo_estado': '301', 'mensagem': 'Por gentileza, direcione-se ao guiche A'},\n",
        "    ('002', '1'): {'novo_estado': '102', 'mensagem': 'Por gentileza, direcione-se ao guiche A'},\n",
        "    ('002', '2'): {'novo_estado': '202', 'mensagem': 'Por gentileza, direcione-se ao guiche A'},\n",
        "    ('002', '3'): {'novo_estado': '302', 'mensagem': 'Por gentileza, direcione-se ao guiche A'},\n",
        "    ('003', '1'): {'novo_estado': '103', 'mensagem': 'Por gentileza, direcione-se ao guiche A'},\n",
        "    ('003', '2'): {'novo_estado': '203', 'mensagem': 'Por gentileza, direcione-se ao guiche A'},\n",
        "    ('003', '3'): {'novo_estado': '303', 'mensagem': 'Por gentileza, direcione-se ao guiche A'},\n",
        "    ('010', '1'): {'novo_estado': '110', 'mensagem': 'Por gentileza, direcione-se ao guiche A'},\n",
        "    ('010', '2'): {'novo_estado': '210', 'mensagem': 'Por gentileza, direcione-se ao guiche A'},\n",
        "    ('010', '3'): {'novo_estado': '310', 'mensagem': 'Por gentileza, direcione-se ao guiche A'},\n",
        "    ('011', '1'): {'novo_estado': '000', 'mensagem': 'Por gentileza, direcione-se ao guiche A'},\n",
        "    ('011', '2'): {'novo_estado': '100', 'mensagem': 'Por gentileza, direcione-se ao guiche A'},\n",
        "    ('011', '3'): {'novo_estado': '200', 'mensagem': 'Por gentileza, direcione-se ao guiche A'},\n",
        "    ('012', '1'): {'novo_estado': '001', 'mensagem': 'Por gentileza, direcione-se ao guiche A'},\n",
        "    ('012', '2'): {'novo_estado': '101', 'mensagem': 'Por gentileza, direcione-se ao guiche A'},\n",
        "    ('012', '3'): {'novo_estado': '102', 'mensagem': 'Por gentileza, direcione-se ao guiche A'},\n",
        "    ('020', '1'): {'novo_estado': '120', 'mensagem': 'Por gentileza, direcione-se ao guiche A'},\n",
        "    ('020', '2'): {'novo_estado': '220', 'mensagem': 'Por gentileza, direcione-se ao guiche A'},\n",
        "    ('020', '3'): {'novo_estado': '320', 'mensagem': 'Por gentileza, direcione-se ao guiche A'},\n",
        "    ('021', '1'): {'novo_estado': '010', 'mensagem': 'Por gentileza, direcione-se ao guiche A'},\n",
        "    ('021', '2'): {'novo_estado': '110', 'mensagem': 'Por gentileza, direcione-se ao guiche A'},\n",
        "    ('021', '3'): {'novo_estado': '210', 'mensagem': 'Por gentileza, direcione-se ao guiche A'},\n",
        "    ('022', '1'): {'novo_estado': '011', 'mensagem': 'Por gentileza, direcione-se ao guiche A'},\n",
        "    ('022', '2'): {'novo_estado': '000', 'mensagem': 'Por gentileza, direcione-se ao guiche A'},\n",
        "    ('022', '3'): {'novo_estado': '100', 'mensagem': 'Por gentileza, direcione-se ao guiche A'},\n",
        "    ('201', '1'): {'novo_estado': '100', 'mensagem': 'Por gentileza, direcione-se ao guiche B'},\n",
        "    ('201', '2'): {'novo_estado': '110', 'mensagem': 'Por gentileza, direcione-se ao guiche B'},\n",
        "    ('201', '3'): {'novo_estado': '120', 'mensagem': 'Por gentileza, direcione-se ao guiche B'},\n",
        "    ('202', '1'): {'novo_estado': '101', 'mensagem': 'Por gentileza, direcione-se ao guiche B'},\n",
        "    ('202', '2'): {'novo_estado': '000', 'mensagem': 'Por gentileza, direcione-se ao guiche B'},\n",
        "    ('202', '3'): {'novo_estado': '010', 'mensagem': 'Por gentileza, direcione-se ao guiche B'},\n",
        "    ('101', '1'): {'novo_estado': '000', 'mensagem': 'Por gentileza, direcione-se ao guiche B'},\n",
        "    ('101', '2'): {'novo_estado': '010', 'mensagem': 'Por gentileza, direcione-se ao guiche B'},\n",
        "    ('101', '3'): {'novo_estado': '020', 'mensagem': 'Por gentileza, direcione-se ao guiche B'},\n",
        "    ('301', '1'): {'novo_estado': '200', 'mensagem': 'Por gentileza, direcione-se ao guiche B'},\n",
        "    ('301', '2'): {'novo_estado': '210', 'mensagem': 'Por gentileza, direcione-se ao guiche B'},\n",
        "    ('301', '3'): {'novo_estado': '220', 'mensagem': 'Por gentileza, direcione-se ao guiche B'},\n",
        "    ('102', '1'): {'novo_estado': '001', 'mensagem': 'Por gentileza, direcione-se ao guiche B'},\n",
        "    ('102', '2'): {'novo_estado': '011', 'mensagem': 'Por gentileza, direcione-se ao guiche B'},\n",
        "    ('102', '3'): {'novo_estado': '021', 'mensagem': 'Por gentileza, direcione-se ao guiche B'},\n",
        "    ('302', '1'): {'novo_estado': '201', 'mensagem': 'Por gentileza, direcione-se ao guiche B'},\n",
        "    ('302', '2'): {'novo_estado': '100', 'mensagem': 'Por gentileza, direcione-se ao guiche B'},\n",
        "    ('302', '3'): {'novo_estado': '110', 'mensagem': 'Por gentileza, direcione-se ao guiche B'},\n",
        "    ('103', '1'): {'novo_estado': '002', 'mensagem': 'Por gentileza, direcione-se ao guiche B'},\n",
        "    ('103', '2'): {'novo_estado': '012', 'mensagem': 'Por gentileza, direcione-se ao guiche B'},\n",
        "    ('103', '3'): {'novo_estado': '022', 'mensagem': 'Por gentileza, direcione-se ao guiche B'},\n",
        "    ('203', '1'): {'novo_estado': '102', 'mensagem': 'Por gentileza, direcione-se ao guiche B'},\n",
        "    ('203', '2'): {'novo_estado': '001', 'mensagem': 'Por gentileza, direcione-se ao guiche B'},\n",
        "    ('203', '3'): {'novo_estado': '011', 'mensagem': 'Por gentileza, direcione-se ao guiche B'},\n",
        "    ('303', '1'): {'novo_estado': '202', 'mensagem': 'Por gentileza, direcione-se ao guiche B'},\n",
        "    ('303', '2'): {'novo_estado': '101', 'mensagem': 'Por gentileza, direcione-se ao guiche B'},\n",
        "    ('303', '3'): {'novo_estado': '000', 'mensagem': 'Por gentileza, direcione-se ao guiche B'},\n",
        "    ('210', '1'): {'novo_estado': '100', 'mensagem': 'Por gentileza, direcione-se ao guiche C'},\n",
        "    ('210', '2'): {'novo_estado': '101', 'mensagem': 'Por gentileza, direcione-se ao guiche C'},\n",
        "    ('210', '3'): {'novo_estado': '102', 'mensagem': 'Por gentileza, direcione-se ao guiche C'}\n",
        "}"
      ]
    },
    {
      "cell_type": "markdown",
      "source": [
        "### Automato"
      ],
      "metadata": {
        "id": "AHiKaUrmI7ke"
      }
    },
    {
      "cell_type": "markdown",
      "source": [
        "#### Descrição"
      ],
      "metadata": {
        "id": "W4KGybwdd2sz"
      }
    },
    {
      "cell_type": "markdown",
      "source": [
        "**Estados:** Em nosso contexto, os estados representam as condições possíveis das filas A, B e C respectivamente, indicando quantos atendimentos cada fila possui em um determinado momento. Por exemplo, o estado “001” representa que a fila A e B estão vazias enquanto a fila C tem 1 peso de atendimento; o estado “312” representa que a fila A está com 3 pesos de atendimento, a fila B com 1 peso e a fila C com 2 pesos, e assim por diante.\n",
        "O AFD segue a seguinte regra para minimizar os estados:\n",
        "*   Sempre que as três filas tiverem mais que 0 pesos, o peso na menor fila será subtraído de todas as filas. Por exemplo: o possível estado 321, que representa Fila A com 3 pesos, fila B com 2 pesos e fila C com 1 peso foi minimizada para o estado 210\n",
        "\n",
        "Essa regra foi elaborada visando a simplificação do AFD sem prejudicar a diferença de pesos entre as filas, possibilitando o pelo funcionamento do sistema.\n",
        "\n",
        "**Alfabeto:** O automoto será capaz de interpretar um alfabeto de 3 símbolos, sendo eles:\n",
        "*  ‘1’ : representa o 1º tipo de atendimento oferecido pelo estabelecimento, de baixa complexidade de resolução, ou seja, menor tempo de atendimento.\n",
        "*  ‘2’ : representa o 2º tipo de atendimento oferecido pelo estabelecimento, de complexidade moderada, ou seja, levando um tempo médio de atendimento.\n",
        "*  ‘3’ : representa o 3º tipo de atendimento oferecido pelo estabelecimento, de alta complexidade de resolução, ou seja, tempo maior de atendimento.\n",
        "\n",
        "**Estado Inicial:** O estado inicial do AFD será aquele que representa todas as filas vazias, indicando o início do processo de gerenciamento de senhas.\n",
        "\n",
        "\n",
        "**Estado Final:** O estado final do AFD será aquele que atende ao critério estabelecido de equilíbrio entre as filas, ou seja, quando as três filas alcançarem um peso de demandas equivalente."
      ],
      "metadata": {
        "id": "X4iWK_cjdXnT"
      }
    },
    {
      "cell_type": "markdown",
      "source": [
        "#### Execução:"
      ],
      "metadata": {
        "id": "dyep-QjTd5LE"
      }
    },
    {
      "cell_type": "code",
      "source": [
        "## AS LINHAS COM COMENTÁRIO 'descrição do funcionamento do AFD' PODEM SER COMPLETAMENTE COMENTADAS PARA MELHORAR A EXPERIÊNCIA DE FUNCIONAMENTO DO AUTOMATO\n",
        "\n",
        "# Função que representa um Autômato Finito Determinístico\n",
        "def afd(M, w):\n",
        "\n",
        "    # 'extrai' os elementos da tupla M\n",
        "    δ, q, F = M\n",
        "\n",
        "    # Dicionário para mapear os tipos de atendimento\n",
        "    tipo_atendimento = {'1': 'Fácil', '2': 'Moderado', '3': 'Difícil'}\n",
        "\n",
        "    # Itera sobre cada tipo de atendimento na sequência w\n",
        "    for s in w:\n",
        "\n",
        "        # Atualiza o estado atual\n",
        "        novo_estado = δ[q, s]['novo_estado']\n",
        "\n",
        "        print(f\"Novo atendimento solicitado - Tipo {s} {tipo_atendimento[s]}\")\n",
        "        print(f\"{δ[q, s]['mensagem']}\")\n",
        "\n",
        "        print(f\"__ descrição do funcionamento do AFD | Estado atual: {q}\")             #descrição do funcionamento do AFD\n",
        "        print(\"__ descrição do funcionamento do AFD | Atendimento direcionado:\")       #descrição do funcionamento do AFD\n",
        "\n",
        "        for transicao, estado in δ.items():\n",
        "            if transicao == (q, s):\n",
        "                print(f\"__ descrição do funcionamento do AFD |   -> Transição: {transicao}\")     #descrição do funcionamento do AFD\n",
        "                if estado['novo_estado'] == '000':\n",
        "                    print(f\"__ descrição do funcionamento do AFD |   -> Estado final: {estado['novo_estado']}\") #descrição do funcionamento do AFD\n",
        "                else:\n",
        "                    print(f\"__ descrição do funcionamento do AFD |   -> Estado atualizado: {estado['novo_estado']}\") #descrição do funcionamento do AFD\n",
        "\n",
        "        print(\"\\n\")\n",
        "        q = novo_estado\n",
        "\n",
        "    return q in F\n",
        "\n",
        "M = (δ, '000', ['000'])"
      ],
      "metadata": {
        "id": "iRdYuqSMIIOm"
      },
      "execution_count": null,
      "outputs": []
    },
    {
      "cell_type": "markdown",
      "source": [
        "## Executando/Testando AFD Gerenciador de Filas"
      ],
      "metadata": {
        "id": "1A7HwYLLJAiw"
      }
    },
    {
      "cell_type": "code",
      "source": [
        "# Teste da função\n",
        "\n",
        "# Experimente testar a entrada \"113211\" para um retorno positivo\n",
        "# Experimente testar a entrada 123123 para um retorno negativo\n",
        "# Em qualquer cenário será possível visualizar o automato indicando a fila para cada um dos atendimentos\n",
        "# O resultado final apenas indica se ao final do processamento as filas se encontram em equilibrio\n",
        "\n",
        "print(\"Insira a sequência de atendimentos solicitados:\")\n",
        "print(\"não utilize espaços, pontos ou qualquer outro separador\")\n",
        "print(\"utlize somente os números 1, 2 e 3\")\n",
        "entrada = input()\n",
        "print(\"\\n\")\n",
        "\n",
        "\n",
        "result = afd(M, entrada)\n",
        "\n",
        "print(f\"RESULTADO DO FUNCIONAMENTO DO AFD: {result}\")"
      ],
      "metadata": {
        "id": "4WBFpbOoIvHt"
      },
      "execution_count": null,
      "outputs": []
    }
  ]
}